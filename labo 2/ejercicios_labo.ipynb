{
 "cells": [
  {
   "cell_type": "markdown",
   "metadata": {},
   "source": [
    "# Ejercicios labo 2"
   ]
  },
  {
   "cell_type": "markdown",
   "metadata": {},
   "source": [
    "## Ejercicio 1 (Reescalamiento). Si consideramos la transformaci ́on lineal\n",
    "(x,y) = T{(w,z)}= (2w,3z),\n",
    "Se pide:\n",
    "1. Encontrar la expresi ́on de la matriz T y T−1.\n",
    "2. Usar estas transformaciones para aplicarlas en los vectores can ́onicos, a\n",
    "un punto arbitrario y a una circunferencia. ¿Qu ́e sucede en cada caso?"
   ]
  },
  {
   "cell_type": "markdown",
   "metadata": {},
   "source": [
    "T(1,0) = (2*1,0)\n",
    "\n",
    "T(0,1) = (0,3*1)"
   ]
  },
  {
   "cell_type": "code",
   "execution_count": 10,
   "metadata": {},
   "outputs": [],
   "source": [
    "T = [ \n",
    "    [2,0], \n",
    "    [0,3]\n",
    "    ]\n",
    "import numpy as np\n",
    "T_inv = np.array([\n",
    "    [1/2,0],\n",
    "    [0,1/3]\n",
    "])"
   ]
  },
  {
   "cell_type": "code",
   "execution_count": null,
   "metadata": {},
   "outputs": [
    {
     "data": {
      "text/plain": [
       "(2, 2)"
      ]
     },
     "execution_count": 13,
     "metadata": {},
     "output_type": "execute_result"
    }
   ],
   "source": []
  },
  {
   "cell_type": "code",
   "execution_count": 14,
   "metadata": {},
   "outputs": [
    {
     "data": {
      "text/plain": [
       "array([[0., 0.],\n",
       "       [0., 0.]])"
      ]
     },
     "execution_count": 14,
     "metadata": {},
     "output_type": "execute_result"
    }
   ],
   "source": [
    "np.zeros(T_inv.shape)"
   ]
  },
  {
   "cell_type": "code",
   "execution_count": null,
   "metadata": {},
   "outputs": [
    {
     "name": "stdout",
     "output_type": "stream",
     "text": [
      "[[2. 2. 8. 6.]\n",
      " [4. 6. 8. 2.]]\n"
     ]
    }
   ],
   "source": [
    "T = np.array([\n",
    "    [2,0],\n",
    "    [0,2]\n",
    "])\n",
    "puntos = np.array([\n",
    "    [1,1,4,3],\n",
    "    [2,3,4,1]\n",
    "])\n",
    "assert(T.shape == (2,2))  # chequeo de matriz 2x2\n",
    "assert(T.shape[1] == puntos.shape[0]) # multiplicacion matricial valida   \n",
    "punto_transformados = np.zeros(puntos.shape)\n",
    "cant_puntos = puntos.shape[1]\n",
    "############### Insert code here!! ######################3    \n",
    "for n_punto in range(cant_puntos):\n",
    "    x = puntos[0,n_punto]\n",
    "    y = puntos[1,n_punto]\n",
    "    nuevo_x,nuevo_y = (T@np.array([x,y]))\n",
    "    punto_transformados[0,n_punto] = nuevo_x\n",
    "    punto_transformados[1,n_punto] = nuevo_y\n",
    "print(punto_transformados)\n",
    "############### Insert code here!! ######################3"
   ]
  },
  {
   "cell_type": "code",
   "execution_count": 38,
   "metadata": {},
   "outputs": [],
   "source": [
    "T = np.array([\n",
    "    [1,2,3,5], \n",
    "    [3,4,5,9]\n",
    "])"
   ]
  },
  {
   "cell_type": "code",
   "execution_count": 44,
   "metadata": {},
   "outputs": [
    {
     "data": {
      "text/plain": [
       "(2, 4)"
      ]
     },
     "execution_count": 44,
     "metadata": {},
     "output_type": "execute_result"
    }
   ],
   "source": [
    "T.shape"
   ]
  },
  {
   "cell_type": "markdown",
   "metadata": {},
   "source": [
    "## Ejercicio 3"
   ]
  },
  {
   "cell_type": "markdown",
   "metadata": {},
   "source": [
    "Ejercicio 3. Escribir la matriz de las siguientes transformaciones lineales en\n",
    "base can ́onica. Interpretar geom ́etricamente cada transformaci ́on.\n",
    "\n",
    "(a) f(x,y) = (x,−y)\n",
    "f(1,0) = (1,0)\n",
    "f(0,1) = (0,-1)\n",
    "\n",
    "(b) f(x,y) = ( 1/2 (x −y), 1/2 (x − y))\n",
    "f(1,0) = 0.5, 0.5\n",
    "f(0,1) = -0-5 , -0.5 \n"
   ]
  },
  {
   "cell_type": "code",
   "execution_count": null,
   "metadata": {},
   "outputs": [],
   "source": [
    "T_b = [\n",
    "    []\n",
    "]"
   ]
  },
  {
   "cell_type": "markdown",
   "metadata": {},
   "source": []
  }
 ],
 "metadata": {
  "kernelspec": {
   "display_name": "alc",
   "language": "python",
   "name": "python3"
  },
  "language_info": {
   "codemirror_mode": {
    "name": "ipython",
    "version": 3
   },
   "file_extension": ".py",
   "mimetype": "text/x-python",
   "name": "python",
   "nbconvert_exporter": "python",
   "pygments_lexer": "ipython3",
   "version": "3.12.3"
  }
 },
 "nbformat": 4,
 "nbformat_minor": 2
}
